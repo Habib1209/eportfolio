{
  "cells": [
    {
      "cell_type": "markdown",
      "metadata": {},
      "source": [
        "---\n",
        "title: Power Bi\n",
        "execute:\n",
        "    jupyter: python3\n",
        "---\n",
        "\n",
        "\n",
        "![Power BI Dashboard](images/project1.png)\n",
        "\n",
        "### Description\n",
        "This project focuses on creating a dynamic and interactive Power BI dashboard to analyse the sales and profitability performance of a superstore. By leveraging business intelligence and data analytics, this dashboard provides actionable insights that help improve decision-making across different aspects of the business, including sales performance, profit margins, customer behaviour, and regional trends.\n",
        "\n",
        "The dashboard allows users to explore key metrics such as total revenue, total profit, number of orders, and discount trends, while also breaking down sales and profitability at a category, sub-category, and regional level. With interactive visualisations and filters, this project helps businesses identify growth opportunities, optimise pricing strategies, and enhance operational efficiency.\n",
        "\n",
        "### Data used for dashboard"
      ],
      "id": "9f1f2fa1"
    },
    {
      "cell_type": "code",
      "metadata": {},
      "source": [
        "#| code-fold: true\n",
        "#| code-summary: \"Reveal code\"\n",
        "import pandas as pd\n",
        "\n",
        "# load csv file\n",
        "df = pd.read_csv(\"data/Superstore.csv\", encoding=\"latin1\", sep=\";\")\n",
        "\n",
        "# Show first 5 rows\n",
        "df.head(5)"
      ],
      "id": "9fcc1dc8",
      "execution_count": null,
      "outputs": []
    },
    {
      "cell_type": "markdown",
      "metadata": {},
      "source": [
        "</br>\n",
        "<a href=\"https://drive.google.com/file/d/1yupSOoR2L8lQnV70ORrtOEw_ikCTfnZm/view?usp=sharing\" class=\"btn btn-primary project-btn\" target=\"_blank\">View project artefacts</a>"
      ],
      "id": "b3e2bda3"
    }
  ],
  "metadata": {
    "kernelspec": {
      "display_name": "Python 3",
      "language": "python",
      "name": "python3"
    }
  },
  "nbformat": 4,
  "nbformat_minor": 5
}